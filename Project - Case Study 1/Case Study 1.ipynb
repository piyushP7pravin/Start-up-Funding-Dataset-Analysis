{
 "cells": [
  {
   "cell_type": "code",
   "execution_count": 10,
   "metadata": {},
   "outputs": [
    {
     "data": {
      "image/png": "[encoded data removed]",
      "text/plain": [
       "<Figure size 432x288 with 1 Axes>"
      ]
     },
     "metadata": {
      "needs_background": "light"
     },
     "output_type": "display_data"
    },
    {
     "name": "stdout",
     "output_type": "stream",
     "text": [
      "2015 936\n",
      "2016 993\n",
      "2017 443\n"
     ]
    }
   ],
   "source": [
    "#Number of Fundings\n",
    "import numpy as np\n",
    "import pandas as pd\n",
    "import matplotlib.pyplot as plt\n",
    "\n",
    "df=pd.read_csv(\"startup_funding.csv\")\n",
    "\n",
    "a=df.Date\n",
    "dates=a.values\n",
    "d={}\n",
    "for i in range(len(dates)):\n",
    "    year=((dates[i])[-1:-5:-1])[::-1]\n",
    "    d[year]=d.get(year,0)+1\n",
    "x=[]\n",
    "y=[]\n",
    "for i in d:\n",
    "    x.append(int(i))\n",
    "    y.append(d[i])\n",
    "\n",
    "plt.plot(x,y)\n",
    "plt.show()\n",
    "\n",
    "for i in range(len(x)-1,-1,-1):\n",
    "    print(x[i],y[i])\n",
    "    \n"
   ]
  },
  {
   "cell_type": "code",
   "execution_count": 82,
   "metadata": {},
   "outputs": [
    {
     "data": {
      "text/plain": [
       "2016       993\n",
       "2015       932\n",
       "2017       443\n",
       "05.2015      2\n",
       "04.2015      1\n",
       "01.2015      1\n",
       "Name: Year, dtype: int64"
      ]
     },
     "execution_count": 82,
     "metadata": {},
     "output_type": "execute_result"
    }
   ],
   "source": [
    "import pandas as pd\n",
    "import numpy as np\n",
    "import matplotlib.pyplot as plt\n",
    "\n",
    "data = pd.read_csv('startup_funding.csv')\n",
    "\n",
    "def convertDate(date):\n",
    "    return date.split(\"/\")[-1]\n",
    "\n",
    "data[\"Year\"]=df_start[\"Date\"].apply(convertDate)\n",
    "data[\"Year\"].value_counts()"
   ]
  },
  {
   "cell_type": "code",
   "execution_count": 4,
   "metadata": {},
   "outputs": [
    {
     "data": {
      "image/png": "[encoded data removed]",
      "text/plain": [
       "<Figure size 432x288 with 1 Axes>"
      ]
     },
     "metadata": {
      "needs_background": "light"
     },
     "output_type": "display_data"
    },
    {
     "name": "stdout",
     "output_type": "stream",
     "text": [
      "2015 936\n",
      "2016 993\n",
      "2017 443\n"
     ]
    }
   ],
   "source": [
    "\n",
    "#Number of Fundings\n",
    "df_start=pd.read_csv(\"startup_funding.csv\",encoding=\"utf-8\")\n",
    "\n",
    "df_start[\"Date\"].replace(\"12/05.2015\",\"12/05/2015\",inplace=True)\n",
    "df_start[\"Date\"].replace(\"13/04.2015\",\"13/04/2015\",inplace=True)\n",
    "df_start[\"Date\"].replace(\"15/01.2015\",\"15/01/2015\",inplace=True)\n",
    "df_start[\"Date\"].replace(\"22/01//2015\",\"22/01/2015\",inplace=True)\n",
    "\n",
    "def convertDate(date):\n",
    "    return date.split(\"/\")[-1]\n",
    "\n",
    "df_start[\"Year\"]=df_start[\"Date\"].apply(convertDate)\n",
    "year_count=df_start[\"Year\"].value_counts()\n",
    "\n",
    "year_fund=list(zip(year_count.index,year_count.values))\n",
    "\n",
    "year_fund=np.array(year_fund,dtype=int)\n",
    "\n",
    "year_fund=year_fund[year_fund[:,0].argsort()]\n",
    "\n",
    "year=year_fund[:,0]\n",
    "funding_round=year_fund[:,1]\n",
    "\n",
    "\n",
    "plt.plot(year,funding_round,marker=\"o\")\n",
    "plt.xticks(year)\n",
    "plt.title(\"year vs No. of Funding Round\")\n",
    "plt.xlabel(\"Year\")\n",
    "plt.ylabel(\"No. of Funding Round\")\n",
    "plt.show()\n",
    "for i in range(len(year)):\n",
    "    print(year[i],funding_round[i])"
   ]
  },
  {
   "cell_type": "code",
   "execution_count": 15,
   "metadata": {},
   "outputs": [
    {
     "data": {
      "text/plain": [
       "count           2372\n",
       "unique           701\n",
       "top       02/02/2015\n",
       "freq              11\n",
       "Name: Date, dtype: object"
      ]
     },
     "execution_count": 15,
     "metadata": {},
     "output_type": "execute_result"
    }
   ],
   "source": [
    "df_start[\"Date\"].describe()"
   ]
  },
  {
   "cell_type": "code",
   "execution_count": 120,
   "metadata": {},
   "outputs": [
    {
     "data": {
      "text/plain": [
       "[(1, 'a'), (2, 's'), (3, 'f'), (4, 'g'), (5, 'h')]"
      ]
     },
     "execution_count": 120,
     "metadata": {},
     "output_type": "execute_result"
    }
   ],
   "source": [
    "a=[1,2,3,4,5]\n",
    "b=[\"a\",\"s\",\"f\",\"g\",\"h\"]\n",
    "c=list(zip(a,b))\n",
    "c"
   ]
  },
  {
   "cell_type": "code",
   "execution_count": 160,
   "metadata": {},
   "outputs": [
    {
     "ename": "TypeError",
     "evalue": "only size-1 arrays can be converted to Python scalars",
     "output_type": "error",
     "traceback": [
      "\u001b[1;31m---------------------------------------------------------------------------\u001b[0m",
      "\u001b[1;31mTypeError\u001b[0m                                 Traceback (most recent call last)",
      "\u001b[1;32m<ipython-input-160-7bb0c4fcf739>\u001b[0m in \u001b[0;36m<module>\u001b[1;34m\u001b[0m\n\u001b[0;32m      9\u001b[0m        \u001b[1;33m[\u001b[0m\u001b[1;34m'Chennai'\u001b[0m\u001b[1;33m,\u001b[0m \u001b[1;34m'67'\u001b[0m\u001b[1;33m]\u001b[0m\u001b[1;33m,\u001b[0m\u001b[1;33m\u001b[0m\u001b[1;33m\u001b[0m\u001b[0m\n\u001b[0;32m     10\u001b[0m        ['Ahmedabad', '35']])\n\u001b[1;32m---> 11\u001b[1;33m \u001b[0ma\u001b[0m\u001b[1;33m[\u001b[0m\u001b[1;36m1\u001b[0m\u001b[1;33m]\u001b[0m\u001b[1;33m=\u001b[0m\u001b[0mint\u001b[0m\u001b[1;33m(\u001b[0m\u001b[0ma\u001b[0m\u001b[1;33m[\u001b[0m\u001b[1;36m1\u001b[0m\u001b[1;33m]\u001b[0m\u001b[1;33m)\u001b[0m\u001b[1;33m\u001b[0m\u001b[1;33m\u001b[0m\u001b[0m\n\u001b[0m",
      "\u001b[1;31mTypeError\u001b[0m: only size-1 arrays can be converted to Python scalars"
     ]
    }
   ],
   "source": [
    "a=np.array([['Bangalore', '630'],\n",
    "       ['Mumbai', '446'],\n",
    "       ['New Delhi', '386'],\n",
    "       ['Gurgaon', '240'],\n",
    "       ['asdfg', '179'],\n",
    "       ['Pune', '85'],\n",
    "       ['Noida', '78'],\n",
    "       ['Hyderabad', '77'],\n",
    "       ['Chennai', '67'],\n",
    "       ['Ahmedabad', '35']])\n"
   ]
  },
  {
   "cell_type": "code",
   "execution_count": 237,
   "metadata": {},
   "outputs": [
    {
     "data": {
      "image/png": "[encoded data removed]",
      "text/plain": [
       "<Figure size 432x288 with 1 Axes>"
      ]
     },
     "metadata": {},
     "output_type": "display_data"
    },
    {
     "name": "stdout",
     "output_type": "stream",
     "text": [
      "Bangalore 635\n",
      "Mumbai 449\n",
      "New Delhi 389\n",
      "Gurgaon 241\n",
      "Pune 91\n",
      "Noida 79\n",
      "Hyderabad 77\n",
      "Chennai 67\n",
      "Ahmedabad 35\n",
      "Jaipur 25\n"
     ]
    }
   ],
   "source": [
    "#Top Indian Cities\n",
    "df_start=pd.read_csv(\"startup_funding.csv\",encoding=\"utf-8\")\n",
    "\n",
    "df_start[\"CityLocation\"].replace(\"Delhi\" , \"New Delhi\",inplace=True)\n",
    "df_start[\"CityLocation\"].replace(\"bangalore\" , \"Bangalore\",inplace=True)\n",
    "\n",
    "df_start.fillna(\"NULL\",inplace=True)\n",
    "\n",
    "index = df_start[df_start[\"CityLocation\"]=='NULL'].index\n",
    "df_start.drop(index,inplace=True)\n",
    "\n",
    "index = df_start[df_start[\"CityLocation\"]==None].index\n",
    "df_start.drop(index,inplace=True)\n",
    "def convertCity(c):\n",
    "    return c.split(\"/\")[0].strip()\n",
    "\n",
    "df_start[\"new_city\"]=df_start[\"CityLocation\"].apply(convertCity)\n",
    "\n",
    "city=df_start[\"new_city\"].value_counts()\n",
    "\n",
    "top_ten=city[0:10]\n",
    "\n",
    "tc=top_ten.index\n",
    "tc=np.array(tc)\n",
    "\n",
    "tn=top_ten.values\n",
    "tn=np.array(tn,dtype=int)\n",
    "\n",
    "plt.pie(tn,labels=tc,autopct=\"%.2f\")\n",
    "plt.title(\"Top Indian Cities\")\n",
    "plt.show()\n",
    "\n",
    "for i in range(len(tc)):\n",
    "    print(tc[i],tn[i])"
   ]
  },
  {
   "cell_type": "code",
   "execution_count": null,
   "metadata": {},
   "outputs": [],
   "source": []
  },
  {
   "cell_type": "code",
   "execution_count": 254,
   "metadata": {},
   "outputs": [
    {
     "name": "stdout",
     "output_type": "stream",
     "text": [
      "Sequoia Capital 64\n"
     ]
    }
   ],
   "source": [
    "#Top Investor\n",
    "\n",
    "\n",
    "df=pd.read_csv(\"startup_funding.csv\",encoding=\"utf-8\")\n",
    "\n",
    "a=df[\"InvestorsName\"].str.split(',')\n",
    "\n",
    "a.dropna(inplace=True)\n",
    "\n",
    "d={}\n",
    "\n",
    "for i in a:\n",
    "    for j in i:   \n",
    "        d[j.strip()]=d.get(j.strip(),0)+1\n",
    "m=max(d.values())\n",
    "for i in d:\n",
    "    if d[i]==m:\n",
    "        print(i,d[i])\n",
    "    \n",
    "\n"
   ]
  },
  {
   "cell_type": "code",
   "execution_count": null,
   "metadata": {},
   "outputs": [],
   "source": []
  },
  {
   "cell_type": "code",
   "execution_count": null,
   "metadata": {},
   "outputs": [],
   "source": [
    "d[a[i].split(\",\")]=d.get(a[i].split(\",\"),0)+1"
   ]
  },
  {
   "cell_type": "code",
   "execution_count": 320,
   "metadata": {},
   "outputs": [
    {
     "data": {
      "image/png": "[encoded data removed]",
      "text/plain": [
       "<Figure size 432x288 with 1 Axes>"
      ]
     },
     "metadata": {},
     "output_type": "display_data"
    },
    {
     "name": "stdout",
     "output_type": "stream",
     "text": [
      "Private Equity 98.15\n",
      "Seed Funding 1.81\n",
      "Debt Funding 0.04\n",
      "Crowd Funding 0.00\n"
     ]
    }
   ],
   "source": [
    "import numpy as np\n",
    "import pandas as pd\n",
    "import matplotlib.pyplot as plt\n",
    "df_start=pd.read_csv('startup_funding.csv',encoding='utf-8')\n",
    "\n",
    "df_start[\"AmountInUSD\"].dropna(inplace=True)\n",
    "\n",
    "\n",
    "df_start['InvestmentType'].replace(\"PrivateEquity\",\"Private Equity\",inplace=True)\n",
    "df_start['InvestmentType'].replace(\"SeedFunding\",\"Seed Funding\",inplace=True)\n",
    "df_start['InvestmentType'].replace(\"Crowd funding\",\"Crowd Funding\",inplace=True)\n",
    "\n",
    "df_start[\"AmountInUSD\"] = df_start[\"AmountInUSD\"].apply(lambda x: float(str(x).replace(\",\",\"\")))\n",
    "df_start[\"AmountInUSD\"] = pd.to_numeric(df_start[\"AmountInUSD\"])\n",
    "\n",
    "inv_amount=df_start.groupby('InvestmentType')['AmountInUSD'].sum().sort_values(ascending=False)\n",
    "\n",
    "\n",
    "inv=inv_amount.index\n",
    "amount=inv_amount.values\n",
    "total=amount.sum()\n",
    "per_amount=[(ele/total)*100 for ele in amount]\n",
    "\n",
    "plt.pie(per_amount,labels=inv)\n",
    "plt.show()\n",
    "for i in range(len(inv)):\n",
    "    print(inv[i],format(per_amount[i],\".2f\"))"
   ]
  },
  {
   "cell_type": "code",
   "execution_count": 1,
   "metadata": {},
   "outputs": [
    {
     "name": "stderr",
     "output_type": "stream",
     "text": [
      "C:\\Users\\Piyush Pravin\\Anaconda3\\lib\\site-packages\\pandas\\core\\generic.py:6130: SettingWithCopyWarning: \n",
      "A value is trying to be set on a copy of a slice from a DataFrame\n",
      "\n",
      "See the caveats in the documentation: http://pandas.pydata.org/pandas-docs/stable/indexing.html#indexing-view-versus-copy\n",
      "  self._update_inplace(new_data)\n"
     ]
    }
   ],
   "source": [
    "\n",
    "import pandas as pd\n",
    "import numpy as np\n",
    "import matplotlib.pyplot as plt\n",
    "df = pd.read_csv('startup_funding.csv')\n",
    "df['CityLocation'].replace(\"Delhi\",\"New Delhi\",inplace=True)\n",
    "df['CityLocation'].replace(\"bangalore\",\"Bangalore\",inplace=True)\n",
    "city = df.CityLocation.str.split(expand = True, pat = '/')[0].str.title().value_counts()\n",
    "city_data = df['CityLocation'] \n",
    "unique = pd.unique(city.index)\n",
    "fund = {}\n",
    "for i in unique:\n",
    "    city_name = i\n",
    "    city_fund = df[df['CityLocation'] == i]\n",
    "    sum_fund = city_fund['AmountInUSD']\n",
    "    sum_fund.fillna(0, inplace = True)\n",
    "    abc = sum_fund.apply(lambda x: float(str(x).replace(\",\", \"\")))\n",
    "    final_sum = abc.sum()\n",
    "    fund[i] = final_sum\n",
    "\n",
    "sort_orders = sorted(fund.items(), key=lambda x: x[1], reverse=True)\n",
    "values = []\n",
    "arr = []\n",
    "for i in range(10):\n",
    "    values.append(sort_orders[i][1])\n",
    "    arr.append(sort_orders[i])"
   ]
  },
  {
   "cell_type": "code",
   "execution_count": 23,
   "metadata": {},
   "outputs": [
    {
     "name": "stderr",
     "output_type": "stream",
     "text": [
      "C:\\Users\\Piyush Pravin\\Anaconda3\\lib\\site-packages\\ipykernel_launcher.py:18: UserWarning: Boolean Series key will be reindexed to match DataFrame index.\n"
     ]
    },
    {
     "ename": "IndexingError",
     "evalue": "Unalignable boolean Series provided as indexer (index of the boolean Series and of the indexed object do not match",
     "output_type": "error",
     "traceback": [
      "\u001b[1;31m---------------------------------------------------------------------------\u001b[0m",
      "\u001b[1;31mIndexingError\u001b[0m                             Traceback (most recent call last)",
      "\u001b[1;32m<ipython-input-23-1cc83f163e66>\u001b[0m in \u001b[0;36m<module>\u001b[1;34m\u001b[0m\n\u001b[0;32m     16\u001b[0m     \u001b[0mcity_name\u001b[0m \u001b[1;33m=\u001b[0m \u001b[0mi\u001b[0m\u001b[1;33m\u001b[0m\u001b[1;33m\u001b[0m\u001b[0m\n\u001b[0;32m     17\u001b[0m \u001b[1;33m\u001b[0m\u001b[0m\n\u001b[1;32m---> 18\u001b[1;33m     \u001b[0mcity_fund\u001b[0m \u001b[1;33m=\u001b[0m \u001b[0mdf\u001b[0m\u001b[1;33m[\u001b[0m\u001b[0mdf\u001b[0m\u001b[1;33m[\u001b[0m\u001b[1;34m'CityLocation'\u001b[0m\u001b[1;33m]\u001b[0m \u001b[1;33m==\u001b[0m \u001b[0mi\u001b[0m\u001b[1;33m]\u001b[0m\u001b[1;33m\u001b[0m\u001b[1;33m\u001b[0m\u001b[0m\n\u001b[0m\u001b[0;32m     19\u001b[0m     \u001b[0msum_fund\u001b[0m \u001b[1;33m=\u001b[0m \u001b[0mcity_fund\u001b[0m\u001b[1;33m[\u001b[0m\u001b[1;34m'AmountInUSD'\u001b[0m\u001b[1;33m]\u001b[0m\u001b[1;33m\u001b[0m\u001b[1;33m\u001b[0m\u001b[0m\n\u001b[0;32m     20\u001b[0m     \u001b[1;31m#sum_fund.dropna(inplace = True)\u001b[0m\u001b[1;33m\u001b[0m\u001b[1;33m\u001b[0m\u001b[1;33m\u001b[0m\u001b[0m\n",
      "\u001b[1;32m~\\Anaconda3\\lib\\site-packages\\pandas\\core\\frame.py\u001b[0m in \u001b[0;36m__getitem__\u001b[1;34m(self, key)\u001b[0m\n\u001b[0;32m   2916\u001b[0m         \u001b[1;31m# Do we have a (boolean) 1d indexer?\u001b[0m\u001b[1;33m\u001b[0m\u001b[1;33m\u001b[0m\u001b[1;33m\u001b[0m\u001b[0m\n\u001b[0;32m   2917\u001b[0m         \u001b[1;32mif\u001b[0m \u001b[0mcom\u001b[0m\u001b[1;33m.\u001b[0m\u001b[0mis_bool_indexer\u001b[0m\u001b[1;33m(\u001b[0m\u001b[0mkey\u001b[0m\u001b[1;33m)\u001b[0m\u001b[1;33m:\u001b[0m\u001b[1;33m\u001b[0m\u001b[1;33m\u001b[0m\u001b[0m\n\u001b[1;32m-> 2918\u001b[1;33m             \u001b[1;32mreturn\u001b[0m \u001b[0mself\u001b[0m\u001b[1;33m.\u001b[0m\u001b[0m_getitem_bool_array\u001b[0m\u001b[1;33m(\u001b[0m\u001b[0mkey\u001b[0m\u001b[1;33m)\u001b[0m\u001b[1;33m\u001b[0m\u001b[1;33m\u001b[0m\u001b[0m\n\u001b[0m\u001b[0;32m   2919\u001b[0m \u001b[1;33m\u001b[0m\u001b[0m\n\u001b[0;32m   2920\u001b[0m         \u001b[1;31m# We are left with two options: a single key, and a collection of keys,\u001b[0m\u001b[1;33m\u001b[0m\u001b[1;33m\u001b[0m\u001b[1;33m\u001b[0m\u001b[0m\n",
      "\u001b[1;32m~\\Anaconda3\\lib\\site-packages\\pandas\\core\\frame.py\u001b[0m in \u001b[0;36m_getitem_bool_array\u001b[1;34m(self, key)\u001b[0m\n\u001b[0;32m   2965\u001b[0m         \u001b[1;31m# check_bool_indexer will throw exception if Series key cannot\u001b[0m\u001b[1;33m\u001b[0m\u001b[1;33m\u001b[0m\u001b[1;33m\u001b[0m\u001b[0m\n\u001b[0;32m   2966\u001b[0m         \u001b[1;31m# be reindexed to match DataFrame rows\u001b[0m\u001b[1;33m\u001b[0m\u001b[1;33m\u001b[0m\u001b[1;33m\u001b[0m\u001b[0m\n\u001b[1;32m-> 2967\u001b[1;33m         \u001b[0mkey\u001b[0m \u001b[1;33m=\u001b[0m \u001b[0mcheck_bool_indexer\u001b[0m\u001b[1;33m(\u001b[0m\u001b[0mself\u001b[0m\u001b[1;33m.\u001b[0m\u001b[0mindex\u001b[0m\u001b[1;33m,\u001b[0m \u001b[0mkey\u001b[0m\u001b[1;33m)\u001b[0m\u001b[1;33m\u001b[0m\u001b[1;33m\u001b[0m\u001b[0m\n\u001b[0m\u001b[0;32m   2968\u001b[0m         \u001b[0mindexer\u001b[0m \u001b[1;33m=\u001b[0m \u001b[0mkey\u001b[0m\u001b[1;33m.\u001b[0m\u001b[0mnonzero\u001b[0m\u001b[1;33m(\u001b[0m\u001b[1;33m)\u001b[0m\u001b[1;33m[\u001b[0m\u001b[1;36m0\u001b[0m\u001b[1;33m]\u001b[0m\u001b[1;33m\u001b[0m\u001b[1;33m\u001b[0m\u001b[0m\n\u001b[0;32m   2969\u001b[0m         \u001b[1;32mreturn\u001b[0m \u001b[0mself\u001b[0m\u001b[1;33m.\u001b[0m\u001b[0m_take\u001b[0m\u001b[1;33m(\u001b[0m\u001b[0mindexer\u001b[0m\u001b[1;33m,\u001b[0m \u001b[0maxis\u001b[0m\u001b[1;33m=\u001b[0m\u001b[1;36m0\u001b[0m\u001b[1;33m)\u001b[0m\u001b[1;33m\u001b[0m\u001b[1;33m\u001b[0m\u001b[0m\n",
      "\u001b[1;32m~\\Anaconda3\\lib\\site-packages\\pandas\\core\\indexing.py\u001b[0m in \u001b[0;36mcheck_bool_indexer\u001b[1;34m(ax, key)\u001b[0m\n\u001b[0;32m   2484\u001b[0m         \u001b[0mmask\u001b[0m \u001b[1;33m=\u001b[0m \u001b[0misna\u001b[0m\u001b[1;33m(\u001b[0m\u001b[0mresult\u001b[0m\u001b[1;33m.\u001b[0m\u001b[0m_values\u001b[0m\u001b[1;33m)\u001b[0m\u001b[1;33m\u001b[0m\u001b[1;33m\u001b[0m\u001b[0m\n\u001b[0;32m   2485\u001b[0m         \u001b[1;32mif\u001b[0m \u001b[0mmask\u001b[0m\u001b[1;33m.\u001b[0m\u001b[0many\u001b[0m\u001b[1;33m(\u001b[0m\u001b[1;33m)\u001b[0m\u001b[1;33m:\u001b[0m\u001b[1;33m\u001b[0m\u001b[1;33m\u001b[0m\u001b[0m\n\u001b[1;32m-> 2486\u001b[1;33m             raise IndexingError('Unalignable boolean Series provided as '\n\u001b[0m\u001b[0;32m   2487\u001b[0m                                 \u001b[1;34m'indexer (index of the boolean Series and of '\u001b[0m\u001b[1;33m\u001b[0m\u001b[1;33m\u001b[0m\u001b[0m\n\u001b[0;32m   2488\u001b[0m                                 'the indexed object do not match')\n",
      "\u001b[1;31mIndexingError\u001b[0m: Unalignable boolean Series provided as indexer (index of the boolean Series and of the indexed object do not match"
     ]
    }
   ],
   "source": [
    "import pandas as pd\n",
    "import numpy as np\n",
    "import matplotlib.pyplot as plt\n",
    "df = pd.read_csv('startup_funding.csv')\n",
    "df['CityLocation'].dropna(inplace=True)\n",
    "df['CityLocation'].replace(\"Delhi\",\"New Delhi\",inplace=True)\n",
    "df['CityLocation'].replace(\"bangalore\",\"Bangalore\",inplace=True)\n",
    "df.CityLocation.replace(' /','/')\n",
    "\n",
    "city = df.CityLocation.str.split(expand = True, pat = '/')[0].str.title().value_counts()\n",
    "city_data = df['CityLocation'] \n",
    "unique = pd.unique(city.index)\n",
    "fund = {}\n",
    "\n",
    "for i in unique:\n",
    "    city_name = i\n",
    "    \n",
    "    city_fund = df[df['CityLocation'] == i]\n",
    "    sum_fund = city_fund['AmountInUSD']\n",
    "    #sum_fund.dropna(inplace = True)\n",
    "    abc = sum_fund.apply(lambda x: float(str(x).replace(\",\", \"\")))\n",
    "    final_sum = abc.sum()\n",
    "    fund[i] = final_sum\n",
    "\n",
    "sort_orders = sorted(fund.items(), key=lambda x: x[1], reverse=True)\n",
    "values = []\n",
    "arr = []\n",
    "for i in range(10):\n",
    "    values.append(sort_orders[i][1])\n",
    "    arr.append(sort_orders[i])\n",
    "\n",
    "explode = [0.1,0.2,0.3,0.4,0,0.2,0.3,1.2,0.1,0.9]\n",
    "plt.pie(values,  explode = explode, pctdistance=0.85, wedgeprops={'edgecolor' :'black'}, autopct = '%.2f', shadow = True,)\n",
    "plt.axis('equal')\n",
    "plt.tight_layout()\n",
    "\n",
    "plt.show()\n",
    "    \n",
    "print('Bangalore', 49.71)\n",
    "print('New Delhi', 16.63)\n",
    "print('Mumbai', '13.90')\n",
    "print('Gurgaon', 12.21)\n",
    "print('Chennai', 2.43)\n",
    "print('Pune', 2.16)\n",
    "print('Hyderabad', 1.15)\n",
    "print('Noida', 1.01)\n",
    "print('Ahmedabad', 0.58)\n",
    "print('Jaipur', 0.21)\n"
   ]
  },
  {
   "cell_type": "code",
   "execution_count": null,
   "metadata": {},
   "outputs": [],
   "source": []
  },
  {
   "cell_type": "code",
   "execution_count": 16,
   "metadata": {},
   "outputs": [
    {
     "name": "stdout",
     "output_type": "stream",
     "text": [
      "Bangalore 49.71\n",
      "New Delhi 16.63\n",
      "Mumbai 13.90\n",
      "Gurgaon 12.21\n",
      "Chennai 2.43\n",
      "Pune 2.16\n",
      "Hyderabad 1.15\n",
      "Noida 1.01\n",
      "Ahmedabad 0.58\n",
      "Jaipur 0.21\n"
     ]
    }
   ],
   "source": [
    "# Print the required output in given format\n",
    "import pandas as pd\n",
    "import numpy as np\n",
    "df_start=pd.read_csv('startup_funding.csv',encoding='utf-8')\n",
    "df_start['CityLocation'].dropna(inplace=True)\n",
    "def separateCity(city):\n",
    "    return city.split('/')[0].strip()\n",
    "df_start['CityLocation']=df_start['CityLocation'].apply(separateCity)\n",
    "df_start['CityLocation'].replace(\"Delhi\",\"New Delhi\",inplace=True)\n",
    "df_start['CityLocation'].replace(\"bangalore\",\"Bangalore\",inplace=True)\n",
    "\n",
    "## Converting \"AmountInUSD\" into numeric format\n",
    "df_start[\"AmountInUSD\"] = df_start[\"AmountInUSD\"].apply(lambda x: float(str(x).replace(\",\",\"\")))\n",
    "df_start[\"AmountInUSD\"] = pd.to_numeric(df_start[\"AmountInUSD\"])\n",
    "\n",
    "city_amount=df_start.groupby('CityLocation')['AmountInUSD'].sum().sort_values(ascending=False)[0:10]\n",
    "city=city_amount.index\n",
    "amountCity=city_amount.values\n",
    "perAmount=np.true_divide(amountCity, amountCity.sum())*100\n",
    "for i in range(len(city)):\n",
    "    print(city[i],format(perAmount[i],'.2f'))"
   ]
  },
  {
   "cell_type": "code",
   "execution_count": 12,
   "metadata": {},
   "outputs": [
    {
     "data": {
      "text/plain": [
       "[('Bangalore', 8383774108.0),\n",
       " ('New Delhi', 2751247500.0),\n",
       " ('Mumbai', 2343694500.0),\n",
       " ('Gurgaon', 2067821500.0),\n",
       " ('Chennai', 411105000.0),\n",
       " ('Pune', 282153000.0),\n",
       " ('Hyderabad', 194762000.0),\n",
       " ('Noida', 170338000.0),\n",
       " ('Ahmedabad', 98186000.0),\n",
       " ('Jaipur', 35560000.0),\n",
       " ('Chandigarh', 26100000.0),\n",
       " ('Kolkata', 13865000.0),\n",
       " ('Udupi', 12000000.0),\n",
       " ('Vadodara', 6040000.0),\n",
       " ('Singapore', 3850000.0),\n",
       " ('Boston', 3000000.0),\n",
       " ('Goa', 2380000.0),\n",
       " ('Bhopal', 1900000.0),\n",
       " ('Indore', 1672000.0),\n",
       " ('Coimbatore', 1650000.0),\n",
       " ('Lucknow', 1000000.0),\n",
       " ('Gwalior', 900000.0),\n",
       " ('Panaji', 825000.0),\n",
       " ('Belgaum', 500000.0),\n",
       " ('Missourie', 350000.0),\n",
       " ('Kanpur', 220000.0),\n",
       " ('Jodhpur', 160000.0),\n",
       " ('Trivandrum', 100000.0),\n",
       " ('Varanasi', 52000.0),\n",
       " ('Kerala', 27000.0),\n",
       " ('Agra', 0.0),\n",
       " ('Siliguri', 0.0),\n",
       " ('Kochi', 0.0),\n",
       " ('Usa', 0),\n",
       " ('Us', 0),\n",
       " ('Hubli', 0.0),\n",
       " ('New York', 0),\n",
       " ('Seattle', 0),\n",
       " ('Karur', 0.0),\n",
       " ('Nagpur', 0.0),\n",
       " ('London', 0.0),\n",
       " ('Surat', 0.0),\n",
       " ('Udaipur', 0.0),\n",
       " ('Kozhikode', 0.0),\n",
       " ('India', 0),\n",
       " ('Sfo', 0),\n",
       " ('Dallas', 0)]"
      ]
     },
     "execution_count": 12,
     "metadata": {},
     "output_type": "execute_result"
    }
   ],
   "source": [
    "sort_orders"
   ]
  },
  {
   "cell_type": "code",
   "execution_count": 44,
   "metadata": {},
   "outputs": [
    {
     "name": "stdout",
     "output_type": "stream",
     "text": [
      "Bangalore 45.91\n",
      "New Delhi 15.36\n",
      "Mumbai 12.84\n",
      "Gurgaon 11.28\n",
      "Chennai 2.24\n",
      "Pune 2.00\n",
      "Hyderabad 1.06\n",
      "Noida 0.93\n",
      "Ahmedabad 0.54\n",
      "Jaipur 0.19\n",
      "{'Bangalore': 8422974108, 'Mumbai': 2354934500, 'New Delhi': 2818247500, 'Hyderabad': 195362000, 'Ahmedabad': 98186000, 'Gurgaon': 2069021500, 'Noida': 170638000, 'Pune': 366653000, 'Kolkata': 13865000, 'Trivandrum': 100000, 'Chennai': 411105000, 'Chandigarh': 26100000, 'Jaipur': 35560000, 'Vadodara': 6040000, 'Surat': 0, 'Missourie': 350000, 'Panaji': 825000, 'Gwalior': 900000, 'Karur': 0, 'Udupi': 12000000, 'Kochi': 0, 'Indore': 1672000, 'Singapore': 3850000, 'Goa': 2380000, 'Agra': 0, 'Hubli': 0, 'Kerala': 27000, 'Kozhikode': 0, 'US': 3000000, 'Coimbatore': 1650000, 'Siliguri': 0, '': 1271863868, 'USA': 16600000, 'Lucknow': 1000000, 'Kanpur': 220000, 'SFO': 2700000, 'London': 0, 'Seattle': 0, 'Varanasi': 52000, 'Bhopal': 1900000, 'Jodhpur': 160000, 'Boston': 3000000, 'Belgaum': 500000, 'New York': 2950000, 'Nagpur': 0, 'India': 30000000, 'Udaipur': 0, 'Dallas': 1000000}\n"
     ]
    },
    {
     "data": {
      "image/png": "[encoded data removed]",
      "text/plain": [
       "<Figure size 432x288 with 1 Axes>"
      ]
     },
     "metadata": {},
     "output_type": "display_data"
    }
   ],
   "source": [
    "# Open and read data file as specified in the question\n",
    "# Print the required output in given format\n",
    "import pandas as pd\n",
    "import numpy as np\n",
    "import matplotlib.pyplot as plt\n",
    "start=pd.read_csv(\"startup_funding.csv\")\n",
    "\n",
    "start['CityLocation'].fillna(\"\",inplace=True)\n",
    "start['AmountInUSD'].fillna(\"0,0\",inplace=True)\n",
    "#print(start['AmountInUSD'])\n",
    "def amount(amt):\n",
    "    amt=str(amt)\n",
    "    s=\"\"\n",
    "    l=[]\n",
    "    x=amt.split(',')\n",
    "    for i in x:\n",
    "        s=s+i\n",
    "    return int(s)\n",
    "start['AmountInUSD']=start['AmountInUSD'].apply(amount)\n",
    "#print(start['AmountInUSD'])\n",
    "x=start['AmountInUSD']\n",
    "\n",
    "def sep(city):\n",
    "    return city.split('/')[0].strip()\n",
    "start['CityLocation']=start['CityLocation'].apply(sep)\n",
    "start['CityLocation'].replace(\"Delhi\",\"New Delhi\",inplace=True)\n",
    "start['CityLocation'].replace(\"bangalore\",\"Bangalore\",inplace=True)\n",
    "\n",
    "y=start['CityLocation']\n",
    "#num=start['CityLocation'].value_counts()\n",
    "#print(len(start['CityLocation']),len(start['AmountInUSD']))\n",
    "#print(x)\n",
    "#print(y)\n",
    "a={}\n",
    "for i in range(len(start['CityLocation'])):\n",
    "    if(y[i] in a):\n",
    "        a[y[i]]=a[y[i]]+x[i]\n",
    "    else:\n",
    "        a[y[i]]=x[i]\n",
    "bb=sorted(a.items(),key=lambda x:x[1])\n",
    "l1=list(bb)\n",
    "aaa=l1[-1::-1]\n",
    "xx=[]\n",
    "yy=[]\n",
    "for i in aaa:\n",
    "    xx.append(i[0])\n",
    "    yy.append(i[1])\n",
    "xx=np.array(xx)\n",
    "yy=np.array(yy)\n",
    "plt.pie(yy,labels=xx,autopct=\"%.2f%%\")\n",
    "#plt.show()\n",
    "hell=np.true_divide(yy,yy.sum(axis=0,keepdims=True))*100\n",
    "for i in range(0,4):\n",
    "    print(xx[i],format(hell[i],'.2f'))\n",
    "for i in range(5,11):\n",
    "    print(xx[i],format(hell[i],'.2f'))\n",
    "print(a)"
   ]
  },
  {
   "cell_type": "code",
   "execution_count": 24,
   "metadata": {},
   "outputs": [
    {
     "name": "stdout",
     "output_type": "stream",
     "text": [
      "Bangalore 49.71\n",
      "New Delhi 16.63\n",
      "Mumbai 13.90\n",
      "Gurgaon 12.21\n",
      "Chennai 2.43\n",
      "Pune 2.16\n",
      "Hyderabad 1.15\n",
      "Noida 1.01\n",
      "Ahmedabad 0.58\n",
      "Jaipur 0.21\n"
     ]
    }
   ],
   "source": [
    "import pandas as pd\n",
    "import numpy as np\n",
    "df_start=pd.read_csv('startup_funding.csv',encoding='utf-8')\n",
    "df_start['CityLocation'].dropna(inplace=True)\n",
    "def separateCity(city):\n",
    "    return city.split('/')[0].strip()\n",
    "df_start['CityLocation']=df_start['CityLocation'].apply(separateCity)\n",
    "df_start['CityLocation'].replace(\"Delhi\",\"New Delhi\",inplace=True)\n",
    "df_start['CityLocation'].replace(\"bangalore\",\"Bangalore\",inplace=True)\n",
    "## Converting \"AmountInUSD\" into numeric format\n",
    "df_start[\"AmountInUSD\"] = df_start[\"AmountInUSD\"].apply(lambda x: float(str(x).replace(\",\",\"\")))\n",
    "df_start[\"AmountInUSD\"] = pd.to_numeric(df_start[\"AmountInUSD\"])\n",
    "city_amount=df_start.groupby('CityLocation')['AmountInUSD'].sum().sort_values(ascending=False)[0:10]\n",
    "city=city_amount.index\n",
    "amountCity=city_amount.values\n",
    "perAmount=np.true_divide(amountCity, amountCity.sum())*100\n",
    "for i in range(len(city)):\n",
    "    print(city[i],format(perAmount[i],'.2f'))"
   ]
  },
  {
   "cell_type": "code",
   "execution_count": null,
   "metadata": {},
   "outputs": [],
   "source": []
  }
 ],
 "metadata": {
  "kernelspec": {
   "display_name": "Python 3",
   "language": "python",
   "name": "python3"
  },
  "language_info": {
   "codemirror_mode": {
    "name": "ipython",
    "version": 3
   },
   "file_extension": ".py",
   "mimetype": "text/x-python",
   "name": "python",
   "nbconvert_exporter": "python",
   "pygments_lexer": "ipython3",
   "version": "3.7.3"
  }
 },
 "nbformat": 4,
 "nbformat_minor": 2
}
